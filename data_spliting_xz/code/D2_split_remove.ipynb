{
 "cells": [
  {
   "cell_type": "code",
   "execution_count": 12,
   "metadata": {},
   "outputs": [],
   "source": [
    "import numpy as np\n",
    "import matplotlib.pyplot as plt\n",
    "import pandas as pd\n",
    "from numpy.fft import fft, ifft\n",
    "from scipy.signal import periodogram\n",
    "import ordpy \n",
    "import statsmodels.api as sm\n",
    "from scipy.signal import butter,filtfilt\n",
    "from matplotlib.pyplot import figure\n",
    "from os import listdir\n",
    "from os.path import isfile, join\n",
    "from statsmodels.tsa.stattools import adfuller\n",
    "from tqdm.notebook import tqdm\n",
    "from datetime import datetime, timedelta\n",
    "import pickle\n",
    "import re\n",
    "from matplotlib.pyplot import MultipleLocator\n",
    "import seaborn as sns\n",
    "import math\n",
    "from scipy import interpolate"
   ]
  },
  {
   "cell_type": "code",
   "execution_count": 2,
   "metadata": {},
   "outputs": [],
   "source": [
    "data_D1D2=pd.read_pickle('../data/dataset/D1D2_puregooddata_25032023.pkl')\n",
    "data_D1=pd.read_pickle('../data/dataset/D1_puregooddata_25032023.pkl')"
   ]
  },
  {
   "cell_type": "code",
   "execution_count": 3,
   "metadata": {},
   "outputs": [],
   "source": [
    "class pain_monitering_D1D2:\n",
    "    def __init__(self,PID):\n",
    "        self.PID=PID\n",
    "        self.D1_rating=[]\n",
    "        self.D1_time=[]\n",
    "        self.D1_prediction=-1\n",
    "        self.D1_confidence=-1\n",
    "        self.D2_rating=[]\n",
    "        self.D2_time=[]\n",
    "        self.D2_prediction=-1\n",
    "        self.D2_confidence=-1\n",
    "    def __str__(self):\n",
    "        print(\"participant: \"+self.PID)\n",
    "        print(\"Day 1 rating: \"+str(len(self.D1_rating))+\" sessions\")\n",
    "        print(\"Day 1 timing: \"+str(len(self.D1_time))+\" sessions\")\n",
    "        if self.D1_prediction!=-1 and self.D1_confidence!=-1:\n",
    "            print(\"Day 1 prediction: \"+ str(self.D1_prediction))\n",
    "            print(\"Day 1 confidence: \"+ str(self.D1_confidence))\n",
    "        else:\n",
    "            print(\"Invalid Day 1 prediction\")\n",
    "        if self.D2_rating!=[]:\n",
    "            print(\"Day 2 rating: \"+str(len(self.D2_rating))+\" sessions\")\n",
    "            print(\"Day 2 timing: \"+str(len(self.D2_time))+\" sessions\")\n",
    "            if self.D2_prediction!=-1 and self.D2_confidence!=-1:\n",
    "                print(\"Day 2 prediction: \"+ str(self.D2_prediction))\n",
    "                print(\"Day 2 confidence: \"+ str(self.D2_confidence))\n",
    "            else:\n",
    "                print(\"Invalid Day 2 prediction\")\n",
    "        else:\n",
    "            print(\"Not attending the second day\")\n",
    "        return \"\"\n",
    "    def insert_rating_time_D1(self,rating_per_session,time_per_session):\n",
    "        self.D1_rating.append(rating_per_session)\n",
    "        self.D1_time.append(time_per_session)\n",
    "    def insert_rating_time_D2(self,rating_per_session,time_per_session):\n",
    "        self.D2_rating.append(rating_per_session)\n",
    "        self.D2_time.append(time_per_session)\n",
    "    def update_prediction_confidence_D1(self,pred,conf):\n",
    "        self.D1_prediction=pred\n",
    "        self.D1_confidence=conf\n",
    "    def update_prediction_confidence_D2(self,pred,conf):\n",
    "        self.D2_prediction=pred\n",
    "        self.D2_confidence=conf"
   ]
  },
  {
   "cell_type": "code",
   "execution_count": 4,
   "metadata": {},
   "outputs": [
    {
     "name": "stdout",
     "output_type": "stream",
     "text": [
      "81 participants\n",
      "Day 1 invalid prediction: 20\n",
      "58 participants attended Day 2\n",
      "Day 2 invalid prediction: 14\n"
     ]
    }
   ],
   "source": [
    "## D1 data\n",
    "participant_list=[]\n",
    "num_invalid_prediction_D1=0\n",
    "num_invalid_prediction_D2=0\n",
    "for i,pid in enumerate(data_D1['PID']):\n",
    "    if i%3==0:\n",
    "        partcipant=pain_monitering_D1D2(pid)\n",
    "        partcipant.insert_rating_time_D1(data_D1['rating'][i],data_D1['time'][i])\n",
    "        if ~np.isnan(data_D1['prediction'][i]) and ~np.isnan(data_D1['confidence'][i]):\n",
    "            partcipant.update_prediction_confidence_D1(data_D1['prediction'][i],data_D1['confidence'][i])\n",
    "        else:\n",
    "            num_invalid_prediction_D1+=1\n",
    "        participant_list.append(partcipant)\n",
    "    else:\n",
    "        participant_list[i//3].insert_rating_time_D1(data_D1['rating'][i],data_D1['time'][i])\n",
    "print(str(len(participant_list))+\" participants\")\n",
    "print(\"Day 1 invalid prediction: \"+ str(num_invalid_prediction_D1))\n",
    "## D2 data\n",
    "pointer=-1\n",
    "D2_part_num=0\n",
    "for i,pid in enumerate(data_D1D2['PID']):\n",
    "    if i%6==0:\n",
    "        for part_j,part in enumerate(participant_list):\n",
    "            if part.PID==pid:\n",
    "                pointer=part_j\n",
    "                D2_part_num+=1\n",
    "                break\n",
    "            else:\n",
    "                pointer=-1\n",
    "        if pointer==-1:\n",
    "            print(\"error: \"+pid)\n",
    "        if ~(participant_list[pointer].D1_rating[i%6]==data_D1D2['rating'][i]).all():\n",
    "            print(\"error: \"+pid)\n",
    "    elif i%6<3:\n",
    "        if ~(participant_list[pointer].D1_rating[i%6]==data_D1D2['rating'][i]).all():\n",
    "            print(\"error: \"+pid)\n",
    "    elif i%6==3:\n",
    "        if ~np.isnan(data_D1D2['prediction'][i]) and ~np.isnan(data_D1D2['confidence'][i]):\n",
    "            participant_list[pointer].update_prediction_confidence_D2(data_D1D2['prediction'][i],data_D1D2['confidence'][i])\n",
    "        else:\n",
    "            num_invalid_prediction_D2+=1\n",
    "        participant_list[pointer].insert_rating_time_D2(data_D1D2['rating'][i],data_D1D2['time'][i])\n",
    "    elif i%6>3:\n",
    "        participant_list[pointer].insert_rating_time_D2(data_D1D2['rating'][i],data_D1D2['time'][i])\n",
    "print(str(D2_part_num)+\" participants attended Day 2\")\n",
    "print(\"Day 2 invalid prediction: \"+ str(num_invalid_prediction_D2))\n"
   ]
  },
  {
   "cell_type": "code",
   "execution_count": 5,
   "metadata": {},
   "outputs": [
    {
     "name": "stdout",
     "output_type": "stream",
     "text": [
      "participant: 600606925db9c892b3939202\n",
      "Day 1 rating: 3 sessions\n",
      "Day 1 timing: 3 sessions\n",
      "Day 1 prediction: 0.9452332200000001\n",
      "Day 1 confidence: 7.55632779\n",
      "Day 2 rating: 3 sessions\n",
      "Day 2 timing: 3 sessions\n",
      "Invalid Day 2 prediction\n",
      "\n"
     ]
    }
   ],
   "source": [
    "print(participant_list[3])"
   ]
  },
  {
   "cell_type": "code",
   "execution_count": 6,
   "metadata": {},
   "outputs": [],
   "source": [
    "gap=10\n",
    "length_limitation=10"
   ]
  },
  {
   "cell_type": "code",
   "execution_count": 7,
   "metadata": {},
   "outputs": [],
   "source": [
    "def split_series(original_rating,original_timelist, gap_boundary):\n",
    "    rating_split=[]\n",
    "    timelist_split=[]\n",
    "    start_label=0\n",
    "    for time_j in range(len(original_timelist)-1):\n",
    "        gap=original_timelist[time_j+1]-original_timelist[time_j]\n",
    "        if gap > gap_boundary:\n",
    "            time=original_timelist[start_label:time_j+1]\n",
    "            if time[-1]-time[0]>=length_limitation:\n",
    "                start_point=time[0]\n",
    "                timelist_split.append([t-start_point for t in time])\n",
    "                rating_split.append(original_rating[start_label:time_j+1])\n",
    "            start_label=time_j+1\n",
    "    rating_split.append(original_rating[start_label:len(original_timelist)])\n",
    "    time=original_timelist[start_label:len(original_timelist)]\n",
    "    start_point=time[0]\n",
    "    timelist_split.append([t-start_point for t in time])\n",
    "    return rating_split,timelist_split"
   ]
  },
  {
   "cell_type": "code",
   "execution_count": 8,
   "metadata": {},
   "outputs": [],
   "source": [
    "part_after_split=[]\n",
    "for part in participant_list:\n",
    "    part_new=pain_monitering_D1D2(part.PID)\n",
    "    part_new.update_prediction_confidence_D1(part.D1_prediction,part.D1_confidence)\n",
    "    part_new.update_prediction_confidence_D2(part.D2_prediction,part.D2_confidence)\n",
    "    for Session_i,timelist in enumerate(part.D1_time):\n",
    "        rating_split,timelist_split=split_series(part.D1_rating[Session_i],timelist,gap)\n",
    "        for split_i,rating in enumerate(rating_split):\n",
    "            part_new.insert_rating_time_D1(rating,timelist_split[split_i])\n",
    "    for Session_i,timelist in enumerate(part.D2_time):\n",
    "        rating_split,timelist_split=split_series(part.D2_rating[Session_i],timelist,gap)\n",
    "        for split_i,rating in enumerate(rating_split):\n",
    "            part_new.insert_rating_time_D2(rating,timelist_split[split_i])\n",
    "    part_after_split.append(part_new)\n",
    "filename = '../data/dataset/D1D2data_class_10sgap.pkl'\n",
    "pickle.dump(part_after_split, open(filename, 'wb'))"
   ]
  },
  {
   "cell_type": "code",
   "execution_count": 21,
   "metadata": {},
   "outputs": [
    {
     "name": "stdout",
     "output_type": "stream",
     "text": [
      "participant: 61605e62983592f4112241a6\n",
      "Day 1 rating: 3 sessions\n",
      "Day 1 timing: 3 sessions\n",
      "Day 1 prediction: 0.47815799999999997\n",
      "Day 1 confidence: 9.676870749999999\n",
      "Day 2 rating: 3 sessions\n",
      "Day 2 timing: 3 sessions\n",
      "Invalid Day 2 prediction\n",
      "\n"
     ]
    },
    {
     "data": {
      "text/plain": [
       "<matplotlib.collections.PathCollection at 0x249eaad1a60>"
      ]
     },
     "execution_count": 21,
     "metadata": {},
     "output_type": "execute_result"
    },
    {
     "data": {
      "image/png": "[encoded data removed]",
      "text/plain": [
       "<Figure size 640x480 with 1 Axes>"
      ]
     },
     "metadata": {},
     "output_type": "display_data"
    }
   ],
   "source": [
    "print(part_after_split[1])\n",
    "plt.scatter(part_after_split[2].D1_time[1], part_after_split[2].D1_rating[1], s = 0.2)"
   ]
  },
  {
   "cell_type": "code",
   "execution_count": null,
   "metadata": {},
   "outputs": [],
   "source": []
  },
  {
   "attachments": {},
   "cell_type": "markdown",
   "metadata": {},
   "source": [
    "## interpolate and downsample"
   ]
  },
  {
   "cell_type": "code",
   "execution_count": 13,
   "metadata": {},
   "outputs": [],
   "source": [
    "def downsample(rating, time,samplingrate):\n",
    "    rating_downsample_list = []\n",
    "    time_downsample_list = []\n",
    "    for i in range(len(rating)):\n",
    "        if len(rating[i]) > 1:\n",
    "            original_timing = time[i]\n",
    "            original_rating = rating[i]\n",
    "            flinear = interpolate.interp1d(original_timing, original_rating)\n",
    "            new_timing = np.arange(round_up(original_timing[0],1),round_down(original_timing[-1],1),1/samplingrate)\n",
    "            ylinear = flinear(new_timing)\n",
    "            rating_downsample_list.append(ylinear)\n",
    "            time_downsample_list.append(new_timing)\n",
    "        else:\n",
    "            rating_downsample_list.append([np.nan])\n",
    "            time_downsample_list.append([np.nan])\n",
    "    return rating_downsample_list, time_downsample_list\n",
    "def round_up(n, decimals=0):\n",
    "    multiplier = 10 ** decimals\n",
    "    return math.ceil(n * multiplier) / multiplier\n",
    "def round_down(n, decimals=0):\n",
    "    multiplier = 10 ** decimals\n",
    "    return math.floor(n * multiplier) / multiplier"
   ]
  },
  {
   "cell_type": "code",
   "execution_count": 23,
   "metadata": {},
   "outputs": [],
   "source": [
    "downsample_rate=40\n",
    "part_downsample_list=[]\n",
    "for part in part_after_split:\n",
    "    partcipant=pain_monitering_D1D2(part.PID)\n",
    "    partcipant.update_prediction_confidence_D1(part.D1_prediction,part.D1_confidence)\n",
    "    partcipant.update_prediction_confidence_D2(part.D2_prediction,part.D2_confidence)\n",
    "    D1_dsmp_rating,D1_dsmp_time=downsample(part.D1_rating,part.D1_time,downsample_rate)\n",
    "    D2_dsmp_rating,D2_dsmp_time=downsample(part.D2_rating,part.D2_time,downsample_rate)\n",
    "    for rate_i, rating in enumerate(D1_dsmp_rating):\n",
    "        partcipant.insert_rating_time_D1(rating,D1_dsmp_time[rate_i])\n",
    "    for rate_i, rating in enumerate(D2_dsmp_rating):\n",
    "        partcipant.insert_rating_time_D2(rating,D2_dsmp_time[rate_i])\n",
    "    part_downsample_list.append(partcipant)"
   ]
  },
  {
   "cell_type": "code",
   "execution_count": 24,
   "metadata": {},
   "outputs": [
    {
     "name": "stdout",
     "output_type": "stream",
     "text": [
      "participant: 611babe081137b57fb423693\n",
      "Day 1 rating: 3 sessions\n",
      "Day 1 timing: 3 sessions\n",
      "Day 1 prediction: 6.83344713\n",
      "Day 1 confidence: 5.71584756\n",
      "Day 2 rating: 4 sessions\n",
      "Day 2 timing: 4 sessions\n",
      "Day 2 prediction: 7.863067689999999\n",
      "Day 2 confidence: 6.522803000000001\n",
      "\n"
     ]
    },
    {
     "data": {
      "text/plain": [
       "<matplotlib.collections.PathCollection at 0x249f5349fa0>"
      ]
     },
     "execution_count": 24,
     "metadata": {},
     "output_type": "execute_result"
    },
    {
     "data": {
      "image/png": "[encoded data removed]",
      "text/plain": [
       "<Figure size 640x480 with 1 Axes>"
      ]
     },
     "metadata": {},
     "output_type": "display_data"
    }
   ],
   "source": [
    "print(part_downsample_list[6])\n",
    "plt.scatter(part_downsample_list[2].D1_time[1], part_downsample_list[2].D1_rating[1], s = 0.2)"
   ]
  },
  {
   "cell_type": "code",
   "execution_count": 25,
   "metadata": {},
   "outputs": [],
   "source": [
    "PID_list=[]\n",
    "D1_rating_list=[]\n",
    "D1_time_list=[]\n",
    "D2_rating_list=[]\n",
    "D2_time_list=[]\n",
    "D1_prediction_list=[]\n",
    "D1_confidence_list=[]\n",
    "D2_prediction_list=[]\n",
    "D2_confidence_list=[]\n",
    "for part in part_downsample_list:\n",
    "    PID_list.append(part.PID)\n",
    "    D1_rating_list.append(part.D1_rating)\n",
    "    D1_time_list.append(part.D1_time)\n",
    "    D2_rating_list.append(part.D2_rating)\n",
    "    D2_time_list.append(part.D2_time)\n",
    "    D1_prediction_list.append(part.D1_prediction)\n",
    "    D1_confidence_list.append(part.D1_confidence)\n",
    "    D2_prediction_list.append(part.D2_prediction)\n",
    "    D2_confidence_list.append(part.D2_confidence)\n",
    "df_D1D2 = pd.DataFrame({'PID': PID_list,\n",
    "                   'D1_rating': D1_rating_list,\n",
    "                   'D1_time': D1_time_list,\n",
    "                   'D1_prediction': D1_prediction_list,\n",
    "                   'D1_confidence': D1_confidence_list,\n",
    "                   'D2_rating': D2_rating_list,\n",
    "                   'D2_time': D2_time_list,\n",
    "                   'D2_prediction': D2_prediction_list,\n",
    "                   'D2_confidence': D2_confidence_list})\n",
    "df_D1D2.to_pickle(\"../data/dataset/D1D2_downsampledata_12062023.pkl\")"
   ]
  }
 ],
 "metadata": {
  "kernelspec": {
   "display_name": "base",
   "language": "python",
   "name": "python3"
  },
  "language_info": {
   "codemirror_mode": {
    "name": "ipython",
    "version": 3
   },
   "file_extension": ".py",
   "mimetype": "text/x-python",
   "name": "python",
   "nbconvert_exporter": "python",
   "pygments_lexer": "ipython3",
   "version": "3.8.8"
  },
  "orig_nbformat": 4
 },
 "nbformat": 4,
 "nbformat_minor": 2
}
