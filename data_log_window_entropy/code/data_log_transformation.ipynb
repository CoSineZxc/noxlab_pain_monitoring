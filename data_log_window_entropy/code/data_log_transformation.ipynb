{
 "cells": [
  {
   "cell_type": "code",
   "execution_count": 1,
   "metadata": {},
   "outputs": [],
   "source": [
    "import numpy as np\n",
    "import matplotlib.pyplot as plt\n",
    "import pandas as pd\n",
    "from numpy.fft import fft, ifft\n",
    "from scipy.signal import periodogram\n",
    "import ordpy \n",
    "import statsmodels.api as sm\n",
    "from scipy.signal import butter,filtfilt\n",
    "from matplotlib.pyplot import figure\n",
    "from os import listdir\n",
    "from os.path import isfile, join\n",
    "from statsmodels.tsa.stattools import adfuller\n",
    "from tqdm.notebook import tqdm\n",
    "from datetime import datetime, timedelta\n",
    "import pickle\n",
    "import re\n",
    "from matplotlib.pyplot import MultipleLocator\n",
    "import seaborn as sns\n",
    "from scipy.stats import shapiro \n",
    "from scipy.stats import kstest\n",
    "import EntropyHub"
   ]
  },
  {
   "cell_type": "code",
   "execution_count": 2,
   "metadata": {},
   "outputs": [],
   "source": [
    "D1_data=pd.read_pickle('../data/dataset/D1_puregooddata_split_31032023.pkl')"
   ]
  },
  {
   "cell_type": "code",
   "execution_count": 3,
   "metadata": {},
   "outputs": [],
   "source": [
    "class pain_monitering_D1:\n",
    "    def __init__(self,PID):\n",
    "        self.PID=PID\n",
    "        self.D1_rating=[]\n",
    "        self.D1_time=[]\n",
    "        self.D1_prediction=-1\n",
    "        self.D1_confidence=-1\n",
    "    def __str__(self):\n",
    "        print(\"participant: \"+self.PID)\n",
    "        print(\"Day 1 rating: \"+str(len(self.D1_rating))+\" sessions\")\n",
    "        print(\"Day 1 timing: \"+str(len(self.D1_time))+\" sessions\")\n",
    "        print(\"Day 1 prediction: \"+ str(self.D1_prediction))\n",
    "        print(\"Day 1 confidence: \"+ str(self.D1_confidence))\n",
    "        return \"\"\n",
    "    def update_rating_time(self,rating,time):\n",
    "        self.D1_rating=rating\n",
    "        self.D1_time=time\n",
    "    def update_prediction_confidence(self,pred,conf):\n",
    "        self.D1_prediction=pred\n",
    "        self.D1_confidence=conf"
   ]
  },
  {
   "cell_type": "code",
   "execution_count": 6,
   "metadata": {},
   "outputs": [
    {
     "name": "stdout",
     "output_type": "stream",
     "text": [
      "79 participants\n"
     ]
    }
   ],
   "source": [
    "Day1_participant_list=[]\n",
    "for i,pid in enumerate(D1_data['PID']):\n",
    "    partcipant=pain_monitering_D1(pid)\n",
    "    partcipant.update_rating_time(D1_data['rating'][i],D1_data['time'][i])\n",
    "    partcipant.update_prediction_confidence(D1_data['prediction'][i],D1_data['confidence'][i])\n",
    "    Day1_participant_list.append(partcipant)\n",
    "print(str(len(Day1_participant_list))+\" participants\")"
   ]
  },
  {
   "attachments": {},
   "cell_type": "markdown",
   "metadata": {},
   "source": [
    "### log transfermation"
   ]
  },
  {
   "cell_type": "code",
   "execution_count": 7,
   "metadata": {},
   "outputs": [],
   "source": [
    "Day1_participant_list_log=[]\n",
    "for part in Day1_participant_list:\n",
    "    partcipant=pain_monitering_D1(part.PID)\n",
    "    partcipant.update_prediction_confidence(part.D1_prediction,part.D1_confidence)\n",
    "    rating_log_list=[]\n",
    "    for rating in part.D1_rating:\n",
    "        add_one=np.repeat(1,len(rating))\n",
    "        rating_np_log=np.log(rating+add_one)\n",
    "        rating_log_list.append(rating_np_log)\n",
    "    partcipant.update_rating_time(rating_log_list,part.D1_time)\n",
    "    Day1_participant_list_log.append(partcipant)"
   ]
  },
  {
   "attachments": {},
   "cell_type": "markdown",
   "metadata": {},
   "source": [
    "### Histogram and Q-Q plot for each participant"
   ]
  },
  {
   "cell_type": "code",
   "execution_count": 8,
   "metadata": {},
   "outputs": [
    {
     "name": "stdout",
     "output_type": "stream",
     "text": [
      "79 participants\n"
     ]
    }
   ],
   "source": [
    "rating_list=[]\n",
    "for part in Day1_participant_list_log:\n",
    "    rating_perpart=[]\n",
    "    for rating in part.D1_rating:\n",
    "        rating_perpart.extend(rating)\n",
    "    rating_list.append(rating_perpart)\n",
    "print(str(len(rating_list))+\" participants\")"
   ]
  },
  {
   "cell_type": "code",
   "execution_count": null,
   "metadata": {},
   "outputs": [],
   "source": [
    "for i,rating in enumerate(rating_list):\n",
    "    plt.xlim(0,np.log(12))\n",
    "    plt.xlabel(\"rating\")\n",
    "    plt.title(Day1_participant_list_log[i].PID+\" rating distribution\")\n",
    "    plt.hist(rating, bins=30)\n",
    "    plt.savefig(\"../data/image/Day_1_log_hist/\"+Day1_participant_list_log[i].PID+\"_log.jpg\",bbox_inches='tight')\n",
    "    plt.cla()"
   ]
  },
  {
   "cell_type": "code",
   "execution_count": null,
   "metadata": {},
   "outputs": [],
   "source": [
    "for i,rating in enumerate(rating_list):\n",
    "    rating_np=np.array(rating)\n",
    "    fig=sm.qqplot(rating_np,line='45')\n",
    "    plt.savefig(\"../data/image/Day_1_log_QQ/\"+Day1_participant_list[i].PID+\"_log.jpg\")\n",
    "    plt.cla()"
   ]
  },
  {
   "attachments": {},
   "cell_type": "markdown",
   "metadata": {},
   "source": [
    "### Shapiro-Wilk Test"
   ]
  },
  {
   "cell_type": "code",
   "execution_count": 10,
   "metadata": {},
   "outputs": [
    {
     "name": "stderr",
     "output_type": "stream",
     "text": [
      "d:\\ProgramData\\Anaconda3\\lib\\site-packages\\scipy\\stats\\morestats.py:1681: UserWarning: p-value may not be accurate for N > 5000.\n",
      "  warnings.warn(\"p-value may not be accurate for N > 5000.\")\n"
     ]
    },
    {
     "data": {
      "image/png": "[encoded data removed]",
      "text/plain": [
       "<Figure size 640x480 with 1 Axes>"
      ]
     },
     "metadata": {},
     "output_type": "display_data"
    },
    {
     "name": "stdout",
     "output_type": "stream",
     "text": [
      "0 participants are assumed to be normally distributed\n",
      "max pvalue PID:62e17900c4ff2316a7297ce6\n",
      "max pvalue: 5.676809715058839e-29\n"
     ]
    }
   ],
   "source": [
    "shapiro_list=[]\n",
    "norm_count=0\n",
    "max_pvalue=0\n",
    "max_PID=\"\"\n",
    "for i,rating in enumerate(rating_list):\n",
    "    shap=shapiro(rating)\n",
    "    shapiro_list.append(shap.pvalue)\n",
    "    if i==0:\n",
    "        max_pvalue=shap.pvalue\n",
    "        max_PID=Day1_participant_list_log[i].PID\n",
    "    else:\n",
    "        if shap.pvalue>max_pvalue:\n",
    "            max_pvalue=shap.pvalue\n",
    "            max_PID=Day1_participant_list_log[i].PID\n",
    "    if shap.pvalue>0.05:\n",
    "        norm_count+=1\n",
    "\n",
    "plt.xlabel(\"p-value\")\n",
    "plt.ylabel(\"the number of participants\")\n",
    "plt.title(\"Shapiro-Wilk Test p-value distribution\")\n",
    "plt.hist(shapiro_list, bins=20)\n",
    "plt.show()\n",
    "print(str(norm_count)+\" participants are assumed to be normally distributed\")\n",
    "print(\"max pvalue PID:\"+max_PID)\n",
    "print(\"max pvalue: \"+str(max_pvalue))"
   ]
  },
  {
   "attachments": {},
   "cell_type": "markdown",
   "metadata": {},
   "source": [
    "### Kolmogorov-Smirnov Test"
   ]
  },
  {
   "cell_type": "code",
   "execution_count": 37,
   "metadata": {},
   "outputs": [
    {
     "data": {
      "image/png": "[encoded data removed]",
      "text/plain": [
       "<Figure size 640x480 with 1 Axes>"
      ]
     },
     "metadata": {},
     "output_type": "display_data"
    },
    {
     "name": "stdout",
     "output_type": "stream",
     "text": [
      "0 participants are assumed to be normally distributed\n"
     ]
    }
   ],
   "source": [
    "kstest_list=[]\n",
    "ks_norm_count=0\n",
    "for rating in rating_list:\n",
    "    ks_data=kstest(rating,\"norm\")\n",
    "    kstest_list.append(ks_data.pvalue)\n",
    "    if ks_data.pvalue>0.05:\n",
    "        ks_norm_count+=1\n",
    "\n",
    "plt.xlabel(\"p-value\")\n",
    "plt.ylabel(\"the number of participants\")\n",
    "plt.title(\"Kolmogorov-Smirnov Test p-value distribution\")\n",
    "plt.hist(kstest_list, bins=20)\n",
    "plt.show()\n",
    "print(str(ks_norm_count)+\" participants are assumed to be normally distributed\")"
   ]
  },
  {
   "cell_type": "code",
   "execution_count": 38,
   "metadata": {},
   "outputs": [
    {
     "name": "stdout",
     "output_type": "stream",
     "text": [
      "0.0\n",
      "1.7822134483030075e-36\n"
     ]
    }
   ],
   "source": [
    "for i,part in enumerate( Day1_participant_list):\n",
    "    if part.PID==\"5a9ea9fe1ade740001b92063\":\n",
    "        ks_data=kstest(rating_list[i],\"norm\")\n",
    "        shap=shapiro(rating_list[i])\n",
    "        print(ks_data.pvalue)\n",
    "        print(shap.pvalue)"
   ]
  }
 ],
 "metadata": {
  "kernelspec": {
   "display_name": "base",
   "language": "python",
   "name": "python3"
  },
  "language_info": {
   "codemirror_mode": {
    "name": "ipython",
    "version": 3
   },
   "file_extension": ".py",
   "mimetype": "text/x-python",
   "name": "python",
   "nbconvert_exporter": "python",
   "pygments_lexer": "ipython3",
   "version": "3.8.8"
  },
  "orig_nbformat": 4
 },
 "nbformat": 4,
 "nbformat_minor": 2
}
