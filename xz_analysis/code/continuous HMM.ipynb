{
 "cells": [
  {
   "cell_type": "code",
   "execution_count": 2,
   "metadata": {},
   "outputs": [],
   "source": [
    "import pandas as pd\n",
    "import numpy as np\n",
    "from collections import Counter\n",
    "import matplotlib.pyplot as plt\n",
    "import seaborn as sns\n",
    "import random\n",
    "from tqdm.notebook import tqdm\n",
    "from sklearn.model_selection import KFold\n",
    "from hmmlearn.hmm import CategoricalHMM, GaussianHMM\n",
    "from scipy.stats import norm\n",
    "from scipy import signal"
   ]
  },
  {
   "cell_type": "code",
   "execution_count": 3,
   "metadata": {},
   "outputs": [],
   "source": [
    "dec_factor=10\n",
    "num_states = 20\n",
    "zeropadding=False"
   ]
  },
  {
   "cell_type": "code",
   "execution_count": 4,
   "metadata": {},
   "outputs": [],
   "source": [
    "Carl_all_rating_pd=pd.read_pickle(\"../data/CBP_rating.pkl\")\n",
    "PID_list=[]\n",
    "Carl_all_rating=[]\n",
    "for index,raw in Carl_all_rating_pd.iterrows():\n",
    "    if raw['PID'] not in PID_list:\n",
    "        PID_list.append(raw['PID'])\n",
    "    else:\n",
    "        continue\n",
    "    if raw['D1_rating']!=[]:\n",
    "        Carl_all_rating.append(raw['D1_rating'])\n",
    "    if raw['D2_rating']!=[]:\n",
    "        Carl_all_rating.append(raw['D2_rating'])\n",
    "    if raw['D3_rating']!=[]:\n",
    "        Carl_all_rating.append(raw['D3_rating'])\n",
    "    if raw['D4_rating']!=[]:\n",
    "        Carl_all_rating.append(raw['D4_rating'])\n",
    "# Carl_rating_AllinOne = np.array([item for part in Carl_all_rating for item in part])\n",
    "if zeropadding==True:\n",
    "    Carl_rating_AllinOne = [item for part in Carl_all_rating for item in part+[0]*80]\n",
    "else:\n",
    "    Carl_rating_AllinOne = [item for part in Carl_all_rating for item in part]\n",
    "Carl_rating_AllinOne_dec=signal.decimate(Carl_rating_AllinOne, dec_factor)"
   ]
  },
  {
   "cell_type": "code",
   "execution_count": 5,
   "metadata": {},
   "outputs": [
    {
     "data": {
      "text/plain": [
       "GaussianHMM(n_components=20, n_iter=1000)"
      ]
     },
     "execution_count": 5,
     "metadata": {},
     "output_type": "execute_result"
    }
   ],
   "source": [
    "# Reshape the observed data to a 2D array (required by hmmlearn)\n",
    "observed_data = Carl_rating_AllinOne_dec.reshape(-1, 1)\n",
    "\n",
    "# Create and train the Gaussian HMM model\n",
    "# num_states = 10\n",
    "model = GaussianHMM(n_components=num_states, n_iter=1000)\n",
    "model.fit(observed_data)"
   ]
  },
  {
   "cell_type": "code",
   "execution_count": 6,
   "metadata": {},
   "outputs": [],
   "source": [
    "model_df=pd.DataFrame({\n",
    "    \"model\":[model]\n",
    "})\n",
    "if zeropadding==True:\n",
    "    zp='_zp'\n",
    "else:\n",
    "    zp=''\n",
    "filename=\"GHMM_s\"+str(num_states)+\"_dec\"+str(dec_factor)+zp+'.pkl'\n",
    "model_df.to_pickle(\"../data/model_dataset/\"+filename)"
   ]
  },
  {
   "cell_type": "code",
   "execution_count": 111,
   "metadata": {},
   "outputs": [],
   "source": [
    "# Predict the hidden states of the observations\n",
    "predicted_states = model.predict(observed_data)"
   ]
  },
  {
   "cell_type": "code",
   "execution_count": 7,
   "metadata": {},
   "outputs": [
    {
     "name": "stdout",
     "output_type": "stream",
     "text": [
      "log likelihood: -162449.66074246092\n",
      "Akaike Information Criterion (AIC): 325699.32148492185\n",
      "Bayesian Information Criterion (BIC): 329401.50117875205\n"
     ]
    }
   ],
   "source": [
    "# observed_data = Carl_rating_AllinOne.reshape(-1, 1)\n",
    "log_likelihood = model.score(observed_data)\n",
    "print(\"log likelihood:\", log_likelihood)\n",
    "\n",
    "# Get the log-likelihood of the data given the model\n",
    "log_likelihood = model.score(observed_data)\n",
    "\n",
    "# Get the number of parameters in the model\n",
    "num_params = model.n_features * model.n_components + (model.n_components - 1) * model.n_components\n",
    "\n",
    "# Calculate the Akaike Information Criterion (AIC)\n",
    "aic = -2 * log_likelihood + 2 * num_params\n",
    "\n",
    "# Calculate the Bayesian Information Criterion (BIC)\n",
    "bic = -2 * log_likelihood + num_params * np.log(len(observed_data))\n",
    "\n",
    "# Display the AIC and BIC\n",
    "print(\"Akaike Information Criterion (AIC):\", aic)\n",
    "print(\"Bayesian Information Criterion (BIC):\", bic)"
   ]
  },
  {
   "cell_type": "code",
   "execution_count": null,
   "metadata": {},
   "outputs": [],
   "source": [
    "# Time Series Plot with Hidden States\n",
    "plt.figure(figsize=(30, 6))\n",
    "# plt.plot(observed_data, label='Observations')\n",
    "plt.scatter(np.arange(len(observed_data)), observed_data, c=predicted_states, cmap='rainbow', label='Hidden States',s=0.5)\n",
    "plt.xlabel('Time')\n",
    "plt.ylabel('Value')\n",
    "plt.title('Time Series with Inferred Hidden States')\n",
    "plt.legend()\n",
    "plt.show()"
   ]
  },
  {
   "cell_type": "code",
   "execution_count": null,
   "metadata": {},
   "outputs": [],
   "source": [
    "# Time Series Plot with Hidden States\n",
    "plt.figure(figsize=(20, 6))\n",
    "# plt.plot(observed_data, label='Observations')\n",
    "plt.scatter(np.arange(len(observed_data)), observed_data, c=predicted_states, cmap='rainbow', label='Hidden States',s=1)\n",
    "plt.xlabel('Time')\n",
    "plt.ylabel('Value')\n",
    "plt.title('Time Series with Inferred Hidden States')\n",
    "plt.legend()\n",
    "plt.show()"
   ]
  },
  {
   "cell_type": "code",
   "execution_count": null,
   "metadata": {},
   "outputs": [],
   "source": [
    "# State Transition Matrix\n",
    "# sns.heatmap(model.transmat_, annot=True, cmap='Blues')\n",
    "sns.heatmap(model.transmat_, cmap='Blues')\n",
    "plt.xlabel('To State')\n",
    "plt.ylabel('From State')\n",
    "plt.title('State Transition Matrix')\n",
    "plt.show()"
   ]
  },
  {
   "cell_type": "code",
   "execution_count": null,
   "metadata": {},
   "outputs": [],
   "source": [
    "# State Duration Distribution\n",
    "state_durations = np.diff(np.where(np.diff(np.concatenate(([False], predicted_states == 0, [False]))))[0])\n",
    "plt.hist(state_durations, bins=range(1, max(state_durations) + 1), align='left', rwidth=0.8)\n",
    "plt.xlabel('State Duration')\n",
    "plt.ylabel('Frequency')\n",
    "plt.title('State Duration Distribution')\n",
    "plt.show()"
   ]
  },
  {
   "cell_type": "code",
   "execution_count": null,
   "metadata": {},
   "outputs": [],
   "source": [
    "# State Emission Distributions\n",
    "state_means = model.means_.flatten()\n",
    "state_std_devs = np.sqrt(model.covars_.flatten())\n",
    "\n",
    "plt.bar(np.arange(num_states), state_means, yerr=state_std_devs, align='center', alpha=0.7, capsize=5)\n",
    "plt.xlabel('Hidden State')\n",
    "plt.ylabel('Mean of Emission Distribution')\n",
    "plt.title('State Emission Distributions')\n",
    "plt.xticks(np.arange(num_states), labels=['1', '2','3','4','5','6','7','8','9','10'])\n",
    "plt.show()"
   ]
  },
  {
   "cell_type": "code",
   "execution_count": null,
   "metadata": {},
   "outputs": [],
   "source": [
    "# Get the means and covariances of the Gaussian emission distributions from the trained model\n",
    "means = model.means_\n",
    "covars = model.covars_\n",
    "# Reshape the observed data to a 1D array (if it's not already)\n",
    "observed_data = observed_data.ravel()\n",
    "# Create a figure to hold the plots of emission distributions\n",
    "num_states = len(means)\n",
    "fig, axs = plt.subplots(num_states, figsize=(8, 6 * num_states))\n",
    "# Plot the Gaussian emission distribution for each hidden state\n",
    "for state in range(num_states):\n",
    "    # Compute the probability density function (PDF) using the Gaussian parameters\n",
    "    x = np.linspace(min(observed_data), max(observed_data), 1000)\n",
    "    pdf = norm.pdf(x, loc=means[state], scale=np.sqrt(covars[state]))\n",
    "    pdf=np.reshape(pdf,(1000))\n",
    "    # Plot the histogram of observed data\n",
    "    axs[state].hist(observed_data, bins=20, density=True, alpha=0.6, label='Observed Data')\n",
    "\n",
    "    # Plot the Gaussian PDF\n",
    "    axs[state].plot(x, pdf, color='red', label=f'Gaussian (State {state + 1})')\n",
    "\n",
    "    # Set plot labels and title\n",
    "    axs[state].set_xlabel('Observations')\n",
    "    axs[state].set_ylabel('Probability Density')\n",
    "    axs[state].set_title(f'Emission Distribution - State {state + 1}')\n",
    "    axs[state].legend()\n",
    "plt.tight_layout()\n",
    "plt.show()"
   ]
  },
  {
   "cell_type": "code",
   "execution_count": null,
   "metadata": {},
   "outputs": [],
   "source": [
    "# Get the means and covariances of the Gaussian emission distributions from the trained model\n",
    "means = model.means_\n",
    "covars = model.covars_\n",
    "\n",
    "# Reshape the observed data to a 1D array (if it's not already)\n",
    "# observed_data = observed_data.ravel()\n",
    "\n",
    "# Create a figure to hold the plot of emission distributions\n",
    "plt.figure(figsize=(10, 6))\n",
    "\n",
    "# Plot the histogram of observed data\n",
    "plt.hist(observed_data, bins=20, density=True, alpha=0.6, label='Observed Data')\n",
    "\n",
    "# Plot the Gaussian PDFs for each hidden state\n",
    "x = np.linspace(min(observed_data), max(observed_data), 1000)\n",
    "for state in range(len(means)):\n",
    "    # Compute the probability density function (PDF) using the Gaussian parameters\n",
    "    pdf = norm.pdf(x, loc=means[state], scale=np.sqrt(covars[state]))\n",
    "    pdf=np.reshape(pdf,(1000))\n",
    "    # Plot the Gaussian PDF for the current state with a different color for each state\n",
    "    plt.plot(x, pdf, label=f'Gaussian (State {state + 1})')\n",
    "\n",
    "# Set plot labels and title\n",
    "plt.xlabel('Observations')\n",
    "plt.ylabel('Probability Density')\n",
    "plt.title('Emission Distributions - Gaussian HMM')\n",
    "plt.legend()\n",
    "plt.tight_layout()\n",
    "plt.show()"
   ]
  },
  {
   "cell_type": "code",
   "execution_count": null,
   "metadata": {},
   "outputs": [],
   "source": [
    "# Get the initial state probabilities from the trained model\n",
    "initial_state_probs = model.startprob_\n",
    "\n",
    "# Create a figure to hold the plot\n",
    "plt.figure(figsize=(6, 4))\n",
    "\n",
    "# Plot the Initial State Probabilities as a bar chart\n",
    "num_states = len(initial_state_probs)\n",
    "state_labels = [f'State {i+1}' for i in range(num_states)]\n",
    "plt.bar(state_labels, initial_state_probs)\n",
    "plt.xlabel('Hidden States')\n",
    "plt.ylabel('Initial State Probabilities')\n",
    "plt.title('Initial State Probabilities in Gaussian HMM')\n",
    "plt.xticks(rotation=45)\n",
    "plt.ylim(0, 1)  # Set the y-axis range between 0 and 1\n",
    "plt.tight_layout()\n",
    "plt.show()"
   ]
  },
  {
   "cell_type": "code",
   "execution_count": null,
   "metadata": {},
   "outputs": [],
   "source": [
    "# Get the log-likelihood of the data given the model\n",
    "log_likelihood = model.score(observed_data)\n",
    "\n",
    "# Get the number of parameters in the model\n",
    "num_params = model.n_features * model.n_components + (model.n_components - 1) * model.n_components\n",
    "\n",
    "# Calculate the Akaike Information Criterion (AIC)\n",
    "aic = -2 * log_likelihood + 2 * num_params\n",
    "\n",
    "# Calculate the Bayesian Information Criterion (BIC)\n",
    "bic = -2 * log_likelihood + num_params * np.log(len(observed_data))\n",
    "\n",
    "# Display the AIC and BIC\n",
    "print(\"Akaike Information Criterion (AIC):\", aic)\n",
    "print(\"Bayesian Information Criterion (BIC):\", bic)"
   ]
  }
 ],
 "metadata": {
  "kernelspec": {
   "display_name": "base",
   "language": "python",
   "name": "python3"
  },
  "language_info": {
   "codemirror_mode": {
    "name": "ipython",
    "version": 3
   },
   "file_extension": ".py",
   "mimetype": "text/x-python",
   "name": "python",
   "nbconvert_exporter": "python",
   "pygments_lexer": "ipython3",
   "version": "3.8.8"
  },
  "orig_nbformat": 4
 },
 "nbformat": 4,
 "nbformat_minor": 2
}
