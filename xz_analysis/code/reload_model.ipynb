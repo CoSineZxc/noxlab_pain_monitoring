{
 "cells": [
  {
   "cell_type": "code",
   "execution_count": 3,
   "metadata": {},
   "outputs": [],
   "source": [
    "import pandas as pd\n",
    "import os"
   ]
  },
  {
   "cell_type": "code",
   "execution_count": null,
   "metadata": {},
   "outputs": [],
   "source": [
    "model_df=pd.read_pickle(\"../data/model_LL.pkl\")"
   ]
  },
  {
   "cell_type": "code",
   "execution_count": 11,
   "metadata": {},
   "outputs": [],
   "source": [
    "folder1='../data/model_rds/'\n",
    "for index,row in model_df.iterrows():\n",
    "    folder2=row[\"PID_Day\"]+'/'\n",
    "    model_ll=row[\"model_LL\"]\n",
    "    for loop_i in range(len(model_ll)):\n",
    "        folder3=str(loop_i+1)+'/'\n",
    "        for model_list in model_ll:\n",
    "            PATH=folder1+folder2+folder3\n",
    "            try: \n",
    "                os.makedirs(PATH) \n",
    "            except OSError as error: \n",
    "                print(error)\n",
    "            for model in model_list:\n",
    "                #### save model as rds file in PATH"
   ]
  }
 ],
 "metadata": {
  "kernelspec": {
   "display_name": "base",
   "language": "python",
   "name": "python3"
  },
  "language_info": {
   "codemirror_mode": {
    "name": "ipython",
    "version": 3
   },
   "file_extension": ".py",
   "mimetype": "text/x-python",
   "name": "python",
   "nbconvert_exporter": "python",
   "pygments_lexer": "ipython3",
   "version": "3.8.8"
  },
  "orig_nbformat": 4
 },
 "nbformat": 4,
 "nbformat_minor": 2
}
