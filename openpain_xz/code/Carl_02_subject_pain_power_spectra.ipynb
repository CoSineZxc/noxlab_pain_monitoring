{
 "cells": [
  {
   "cell_type": "code",
   "execution_count": null,
   "id": "ee3b5023",
   "metadata": {},
   "outputs": [],
   "source": [
    "from bids import BIDSLayout\n",
    "import json\n",
    "import pandas as pd\n",
    "import os\n",
    "\n",
    "from nilearn import image as nimg\n",
    "from nilearn import plotting as nplot\n",
    "\n",
    "import gzip\n",
    "import matplotlib.pyplot as plt\n",
    "import numpy as np\n",
    "\n",
    "from scipy.signal import welch, detrend\n",
    "from scipy.fft import rfft, rfftfreq\n",
    "\n"
   ]
  },
  {
   "cell_type": "code",
   "execution_count": null,
   "id": "27a133aa",
   "metadata": {},
   "outputs": [],
   "source": [
    " from Carl_load_responses import *"
   ]
  },
  {
   "cell_type": "code",
   "execution_count": null,
   "id": "1eb09e57",
   "metadata": {},
   "outputs": [],
   "source": [
    "responses, key = plot_all_responses_for_one_subject('sub-100', 'sp',downsampled=False,fs=14.40)"
   ]
  },
  {
   "cell_type": "markdown",
   "id": "6f792b35",
   "metadata": {},
   "source": [
    "It can be seen that there are artifacts in these signals due to the pain ratings being adjusted for the first few volumes. As a result it would be good to discard the first four volumes (aka responses.)"
   ]
  },
  {
   "cell_type": "code",
   "execution_count": null,
   "id": "68bea142",
   "metadata": {},
   "outputs": [],
   "source": [
    "# Number of samples in normalized_tone\n",
    "\n",
    "# Note the extra 'r' at the front\n",
    "def plot_fft_participant(participant):\n",
    "    responses, key = get_all_responses_for_one_subject(participant, 'sp',downsampled=False)\n",
    "    demeaned = detrend(responses[:,4*36:],type='constant') #7, 8640\n",
    "    plt.plot(demeaned.T)\n",
    "    plt.show()\n",
    "    yf = rfft(demeaned)\n",
    "    xf = rfftfreq(demeaned.shape[1], 1 / 14.40)[:,np.newaxis]\n",
    "    plt.plot(xf, np.mean(np.abs(yf).T,axis=1))\n",
    "    plt.xlim([0,1])\n",
    "    plt.show()\n",
    "    \n",
    "plot_fft_participant('sub-103')\n"
   ]
  },
  {
   "cell_type": "markdown",
   "id": "9e45ff55",
   "metadata": {},
   "source": [
    "## Now I estimate and plot the PSD for one subject across runs"
   ]
  },
  {
   "cell_type": "markdown",
   "id": "bf2682ab",
   "metadata": {},
   "source": [
    "There were 244 volumes taken, each of which took 2.5 seconds, and here we have 244*36 = 8784 recordings, so the sampling frequency was 1/(2.5/36) = 14.40 Hz"
   ]
  },
  {
   "cell_type": "code",
   "execution_count": null,
   "id": "155f63c4",
   "metadata": {},
   "outputs": [],
   "source": [
    "def plot_welch_psd(subject_id,responses, key, fs, plot=True, xlim = [0,1]):\n",
    "\n",
    "    f, Pxx_den = welch(responses,fs=fs, scaling = 'density', nperseg=256)\n",
    "    if plot:    \n",
    "        fig, ax = plt.subplots(figsize = (16,6))\n",
    "        plt.semilogy(f, Pxx_den.T)\n",
    "        plt.legend(key)\n",
    "        plt.title(f\"Welch's estimate of the PSD of subject {subject_id} responses across all sessions and runs.\")\n",
    "        plt.xlabel('Frequency (Hz)')\n",
    "        plt.ylabel('Power')\n",
    "        plt.xlim(xlim)\n",
    "    return f, Pxx_den\n"
   ]
  },
  {
   "cell_type": "markdown",
   "id": "14a2dca6",
   "metadata": {},
   "source": [
    "## Using the non-downsampled responses to plot more accurate psds for the chronic patients"
   ]
  },
  {
   "cell_type": "markdown",
   "id": "f80db6b6",
   "metadata": {},
   "source": [
    "To investigate properly the validity of looking for information in the reponses of the participants, we can use the non downsampled responses of run 1 every visit that the participant attended, and form an average psd for that participant, then compare the psd's across all participants with chronic pain.\n",
    "\n",
    "The highest frequency we can measure here comes frmo the nyquist criterion, and is fs/2 = 7.27 Hz "
   ]
  },
  {
   "cell_type": "code",
   "execution_count": null,
   "id": "77bcdedd",
   "metadata": {},
   "outputs": [],
   "source": [
    "participants_df = pd.read_csv('openpain.org/subacute_longitudinal_study/participants.tsv', sep='\\t')\n",
    "chronic_df = participants_df.loc[participants_df[\"group\"] == \"chronic\"]\n"
   ]
  },
  {
   "cell_type": "code",
   "execution_count": null,
   "id": "c6f95904",
   "metadata": {},
   "outputs": [],
   "source": [
    "def plot_participant_psd(participant):\n",
    "    font = 20\n",
    "    responses, key = get_all_responses_for_one_subject(participant,'sp',downsampled = False)\n",
    "    responses = responses.astype('float')\n",
    "    #This method uses demeaned responses for the spectrum\n",
    "    f, Pxx_den = welch(responses[:,4*36:], fs = 14.40, scaling='density')\n",
    "    #now we average those psds to get a consistent view of one subject.\n",
    "    fig, ax = plt.subplots(figsize = (16,6))\n",
    "    plt.semilogy(f, Pxx_den.T)\n",
    "    plt.legend(key,fontsize=font-5)\n",
    "    plt.title(f\"Welch's estimate of the PSD of subject {participant} responses across all sessions and runs.\",fontsize=font)\n",
    "    plt.xlabel('Frequency (Hz)',fontsize=font)\n",
    "    plt.ylabel('Power',fontsize=font)\n",
    "    plt.xticks(fontsize=15)\n",
    "    plt.yticks(fontsize=15)\n",
    "    #plt.xlim([0])\n",
    "plot_participant_psd('sub-120')\n",
    "plot_participant_psd('sub-100')\n",
    "plot_participant_psd('sub-105')"
   ]
  },
  {
   "cell_type": "markdown",
   "id": "d242c71d",
   "metadata": {},
   "source": [
    "Now we move to the computation of the average psd of all chronic subjects"
   ]
  },
  {
   "cell_type": "code",
   "execution_count": null,
   "id": "49b9259e",
   "metadata": {},
   "outputs": [],
   "source": [
    "responses, key = get_all_responses_for_one_subject('sub-098','sp',downsampled = False, verbose = True)\n",
    "# we have to remember to remove any spurious results from the responses - the length should be 8784 but\n",
    "# there are also others in there for example the 8783 in sub-098. This will be removed here.\n",
    "print([len(responses[i]) for i in range(len(responses))])\n",
    "responses = np.array(list(filter(lambda x: len(x) == 8784, responses)))\n",
    "print([len(responses[i]) for i in range(len(responses))])"
   ]
  },
  {
   "cell_type": "code",
   "execution_count": null,
   "id": "ee4ebeb1",
   "metadata": {},
   "outputs": [],
   "source": [
    "fig, ax = plt.subplots(figsize = (10,10))\n",
    "Pxx_den_list = []\n",
    "for subject in chronic_df['participant_id']:\n",
    "    responses, key = get_all_responses_for_one_subject(subject,'sp',downsampled = False, verbose = False)\n",
    "    responses = np.array(list(filter(lambda x: len(x) == 8784, responses))).astype('float')\n",
    "    if len(responses.shape) != 2:\n",
    "        print(subject,responses.shape)\n",
    "        continue   \n",
    "    f, Pxx_den = plot_welch_psd(subject,responses[:,4*36:],key, fs = 14.40, plot=False)\n",
    "\n",
    "    #now we average those psds to get a single view of one subject.\n",
    "    Pxx_den_list.append(np.mean(Pxx_den, axis=0))\n",
    "    plt.semilogy(f, np.mean(Pxx_den, axis=0).T)\n",
    "font = 25\n",
    "plt.title(f\"Average PSD for each chronic patient \\nacross all sessions and runs.\",fontsize=font)\n",
    "plt.xlabel('Frequency (Hz)',fontsize=font)\n",
    "plt.xticks(np.round(f[::],1),fontsize=font)\n",
    "plt.yticks(fontsize=font)\n",
    "plt.ylabel('Power/Hz',fontsize=font)\n",
    "plt.xlim([0,1])\n",
    "plt.show()"
   ]
  },
  {
   "cell_type": "code",
   "execution_count": null,
   "id": "591d5e74",
   "metadata": {},
   "outputs": [],
   "source": [
    "from scipy.signal import savgol_filter\n",
    "\n",
    "fig, ax = plt.subplots(figsize = (10,10))\n",
    "Pxx_den_list = []\n",
    "for subject in chronic_df['participant_id']:\n",
    "    responses, key = get_all_responses_for_one_subject(subject,'sp',downsampled = False, verbose = False)\n",
    "    responses = np.array(list(filter(lambda x: len(x) == 8784, responses))).astype('float')\n",
    "    if len(responses.shape) != 2:\n",
    "        print(subject,responses.shape)\n",
    "        continue   \n",
    "    f, Pxx_den = plot_welch_psd(subject,savgol_filter(responses[:,4*36:],4*36+1,3),key, fs = 14.40, plot=False)\n",
    "\n",
    "    #now we average those psds to get a single view of one subject.\n",
    "    Pxx_den_list.append(np.mean(Pxx_den, axis=0))\n",
    "    plt.semilogy(f, np.mean(Pxx_den, axis=0).T)\n",
    "plt.title(f\"Average PSD for each chronic patient across all sessions and runs.\")\n",
    "plt.xlabel('Frequency (Hz)')\n",
    "plt.xticks(f[::])\n",
    "\n",
    "plt.ylabel('Power/Hz')\n",
    "plt.xlim([0,1])\n",
    "plt.show()"
   ]
  },
  {
   "cell_type": "code",
   "execution_count": null,
   "id": "50d53b6d",
   "metadata": {},
   "outputs": [],
   "source": [
    "fig, ax = plt.subplots(figsize = (16,6))\n",
    "plt.stem(f, np.mean(np.array(Pxx_den_list), axis=0).T)\n",
    "plt.title(f\"PSD average of all chronic patient responses across all sessions and runs.\")\n",
    "plt.xlabel('Frequency (Hz)')\n",
    "plt.xticks(f[::2])\n",
    "plt.ylabel('Power/Hz')\n",
    "plt.xlim([0,1])\n",
    "plt.show()"
   ]
  },
  {
   "cell_type": "markdown",
   "id": "3017322b",
   "metadata": {},
   "source": [
    "## Examining the spectra of healthy controls"
   ]
  },
  {
   "cell_type": "code",
   "execution_count": null,
   "id": "256a5678",
   "metadata": {},
   "outputs": [],
   "source": [
    "subacute_df = participants_df.loc[participants_df[\"group\"] == \"subacute\"]\n",
    "\n",
    "fig, ax = plt.subplots(figsize = (16,6))\n",
    "Pxx_den_list = []\n",
    "for subject in subacute_df['participant_id']:\n",
    "    responses, key = get_all_responses_for_one_subject(subject,'sp',downsampled = False, verbose = False)\n",
    "    responses = np.array(list(filter(lambda x: len(x) == 8784, responses)))\n",
    "    if len(responses.shape) != 2:\n",
    "        print(subject,responses.shape)\n",
    "        continue   \n",
    "    f, Pxx_den = plot_welch_psd(subject,responses[:,4*36:],key, fs = 14.40, plot=False)\n",
    "\n",
    "    #now we average those psds to get a consistent view of one subject.\n",
    "    Pxx_den_list.append(np.mean(Pxx_den, axis=0))\n",
    "    plt.semilogy(f, np.mean(Pxx_den, axis=0).T)\n",
    "plt.title(f\"Average of Welch's estimate of the PSD of subacute patient responses across all sessions and runs where this data was clean.\")\n",
    "plt.xlabel('Frequency (Hz)')\n",
    "plt.xticks(f[::])\n",
    "\n",
    "plt.ylabel('Power/Hz')\n",
    "plt.xlim([0,1])\n",
    "plt.show()"
   ]
  },
  {
   "cell_type": "code",
   "execution_count": null,
   "id": "733ccc61",
   "metadata": {},
   "outputs": [],
   "source": [
    "fig, ax = plt.subplots(figsize = (16,6))\n",
    "plt.stem(f, np.mean(np.array(Pxx_den_list), axis=0).T)\n",
    "plt.title(f\"PSD average of all subacute patient responses across all sessions and runs.\")\n",
    "plt.xlabel('Frequency (Hz)')\n",
    "plt.xticks(f[::])\n",
    "plt.ylabel('Power/Hz')\n",
    "plt.xlim([0,1])\n",
    "plt.show()"
   ]
  },
  {
   "cell_type": "markdown",
   "id": "79cd3156",
   "metadata": {},
   "source": [
    "These spectra are indicative of the fact that the patient responses may be acting similarly to random walks.\n",
    "\n",
    "## Plotting the autocorellation of patient responses"
   ]
  },
  {
   "cell_type": "code",
   "execution_count": null,
   "id": "9c2125be",
   "metadata": {},
   "outputs": [],
   "source": [
    "import pandas\n",
    "burn = 4*36\n",
    "response = load_single_subject_response(subject = \"sub-101\", visit= 1, run= 1, plot = 0, task_type = 'sp', downsample = False)[burn:]\n",
    "autocor = np.zeros(len(response))\n",
    "for i in range(len(response)):\n",
    "    autocor[i]=pandas.Series.autocorr(pandas.Series(response),lag=i)\n",
    "\n",
    "plt.plot(response)\n",
    "plt.show()\n",
    "plt.plot(autocor)"
   ]
  }
 ],
 "metadata": {
  "kernelspec": {
   "display_name": "sbp_env",
   "language": "python",
   "name": "python3"
  },
  "language_info": {
   "codemirror_mode": {
    "name": "ipython",
    "version": 3
   },
   "file_extension": ".py",
   "mimetype": "text/x-python",
   "name": "python",
   "nbconvert_exporter": "python",
   "pygments_lexer": "ipython3",
   "version": "3.7.10"
  },
  "vscode": {
   "interpreter": {
    "hash": "a2801a497de70ae62ab0a80e9b3176302dc762b9ebe33dfeb141390422f5fa02"
   }
  }
 },
 "nbformat": 4,
 "nbformat_minor": 5
}
