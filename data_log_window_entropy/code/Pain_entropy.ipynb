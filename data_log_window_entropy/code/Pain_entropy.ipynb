{
 "cells": [
  {
   "cell_type": "code",
   "execution_count": 1,
   "metadata": {},
   "outputs": [
    {
     "name": "stderr",
     "output_type": "stream",
     "text": [
      "d:\\ProgramData\\Anaconda3\\lib\\site-packages\\scipy\\__init__.py:138: UserWarning: A NumPy version >=1.16.5 and <1.23.0 is required for this version of SciPy (detected version 1.23.5)\n",
      "  warnings.warn(f\"A NumPy version >={np_minversion} and <{np_maxversion} is required for this version of \"\n"
     ]
    }
   ],
   "source": [
    "import numpy as np\n",
    "import matplotlib.pyplot as plt\n",
    "import pandas as pd\n",
    "from numpy.fft import fft, ifft\n",
    "from scipy.signal import periodogram\n",
    "import ordpy \n",
    "import statsmodels.api as sm\n",
    "from scipy.signal import butter,filtfilt\n",
    "from matplotlib.pyplot import figure\n",
    "from os import listdir\n",
    "from os.path import isfile, join\n",
    "from statsmodels.tsa.stattools import adfuller\n",
    "from tqdm.notebook import tqdm\n",
    "from datetime import datetime, timedelta\n",
    "import pickle\n",
    "import re\n",
    "from matplotlib.pyplot import MultipleLocator\n",
    "import seaborn as sns\n",
    "from scipy.stats import shapiro \n",
    "from scipy.stats import kstest\n",
    "import EntropyHub as EH\n",
    "from scipy import interpolate\n",
    "import math\n",
    "import nolds\n",
    "from scipy import signal"
   ]
  },
  {
   "cell_type": "code",
   "execution_count": 2,
   "metadata": {},
   "outputs": [],
   "source": [
    "class pain_monitering_D1:\n",
    "    def __init__(self,PID):\n",
    "        self.PID=PID\n",
    "        self.D1_rating=[]\n",
    "        self.D1_time=[]\n",
    "        self.D1_prediction=-1\n",
    "        self.D1_confidence=-1\n",
    "    def __str__(self):\n",
    "        print(\"participant: \"+self.PID)\n",
    "        print(\"Day 1 rating: \"+str(len(self.D1_rating))+\" sessions\")\n",
    "        print(\"Day 1 timing: \"+str(len(self.D1_time))+\" sessions\")\n",
    "        print(\"Day 1 prediction: \"+ str(self.D1_prediction))\n",
    "        print(\"Day 1 confidence: \"+ str(self.D1_confidence))\n",
    "        return \"\"\n",
    "    def update_rating_time(self,rating,time):\n",
    "        self.D1_rating=rating\n",
    "        self.D1_time=time\n",
    "    def update_prediction_confidence(self,pred,conf):\n",
    "        self.D1_prediction=pred\n",
    "        self.D1_confidence=conf"
   ]
  },
  {
   "cell_type": "code",
   "execution_count": 3,
   "metadata": {},
   "outputs": [],
   "source": [
    "Day1_list=pd.read_pickle('../data/dataset/D1_data_downsample.pkl')[\"Day1_part_downsample_list\"]"
   ]
  },
  {
   "attachments": {},
   "cell_type": "markdown",
   "metadata": {},
   "source": [
    "m=2, r=0.2"
   ]
  },
  {
   "cell_type": "code",
   "execution_count": 4,
   "metadata": {},
   "outputs": [
    {
     "data": {
      "application/vnd.jupyter.widget-view+json": {
       "model_id": "da99a0b3482c448991b00a998d435884",
       "version_major": 2,
       "version_minor": 0
      },
      "text/plain": [
       "  0%|          | 0/79 [00:00<?, ?it/s]"
      ]
     },
     "metadata": {},
     "output_type": "display_data"
    }
   ],
   "source": [
    "m=2\n",
    "r=0.2\n",
    "SampEn_m2_r02_part=[]\n",
    "SampEn_m2_r02=[]\n",
    "inf_count=0\n",
    "zero_count=0\n",
    "for part in tqdm(Day1_list):\n",
    "    SampEn_part=[]\n",
    "    for session in part.D1_rating:\n",
    "        r_std=r*np.std(session)\n",
    "        en=nolds.sampen(session, emb_dim=m, tolerance=r_std)\n",
    "        SampEn_part.append(en)\n",
    "        if math.isinf(en):\n",
    "            inf_count+=1\n",
    "        else:\n",
    "            SampEn_m2_r02.append(en)\n",
    "            if en==0:\n",
    "                zero_count+=1\n",
    "    SampEn_m2_r02_part.append(SampEn_part)"
   ]
  },
  {
   "cell_type": "code",
   "execution_count": 5,
   "metadata": {},
   "outputs": [
    {
     "name": "stdout",
     "output_type": "stream",
     "text": [
      "mean:0.027610433340187902\n",
      "std:0.06777634830074118\n"
     ]
    }
   ],
   "source": [
    "print(\"mean:\"+str(np.mean(SampEn_m2_r02)))\n",
    "print(\"std:\"+str(np.std(SampEn_m2_r02)))"
   ]
  },
  {
   "cell_type": "code",
   "execution_count": 8,
   "metadata": {},
   "outputs": [
    {
     "data": {
      "application/vnd.jupyter.widget-view+json": {
       "model_id": "dc5fdfdfb36341c2b3b19ba4a6c71021",
       "version_major": 2,
       "version_minor": 0
      },
      "text/plain": [
       "  0%|          | 0/79 [00:00<?, ?it/s]"
      ]
     },
     "metadata": {},
     "output_type": "display_data"
    }
   ],
   "source": [
    "all_rating=[]\n",
    "for part in tqdm(Day1_list):\n",
    "    for session in part.D1_rating:\n",
    "        all_rating.append(session.tolist())\n",
    "df=pd.DataFrame({\n",
    "    \"Sharon rating\":all_rating\n",
    "})\n",
    "df.to_pickle(\"../data/dataset/Sharon_allrating.pkl\")"
   ]
  },
  {
   "cell_type": "code",
   "execution_count": 6,
   "metadata": {},
   "outputs": [],
   "source": [
    "df=pd.DataFrame({\n",
    "    \"Sharon entropy\":SampEn_m2_r02\n",
    "})\n",
    "df.to_pickle(\"../data/dataset/Sharon_m2r02_Sampen.pkl\")"
   ]
  },
  {
   "cell_type": "code",
   "execution_count": 19,
   "metadata": {},
   "outputs": [
    {
     "name": "stdout",
     "output_type": "stream",
     "text": [
      "valid entropy value: 248\n",
      "infinity value: 1\n",
      "zero value: 1\n"
     ]
    },
    {
     "data": {
      "image/png": "[encoded data removed]",
      "text/plain": [
       "<Figure size 640x480 with 1 Axes>"
      ]
     },
     "metadata": {},
     "output_type": "display_data"
    }
   ],
   "source": [
    "print(\"valid entropy value: \"+str(len(SampEn_m2_r02)))\n",
    "print(\"infinity value: \"+str(inf_count))\n",
    "print(\"zero value: \"+str(zero_count))\n",
    "plt.xlabel(\"entropy\")\n",
    "plt.title(\"Entropy distribution (m=2; r=0.2)\")\n",
    "plt.hist(SampEn_m2_r02, bins=100)\n",
    "plt.show()"
   ]
  },
  {
   "cell_type": "code",
   "execution_count": 20,
   "metadata": {},
   "outputs": [
    {
     "data": {
      "application/vnd.jupyter.widget-view+json": {
       "model_id": "730753b89d4d4d2a9185dab37b6aae89",
       "version_major": 2,
       "version_minor": 0
      },
      "text/plain": [
       "  0%|          | 0/79 [00:00<?, ?it/s]"
      ]
     },
     "metadata": {},
     "output_type": "display_data"
    }
   ],
   "source": [
    "m=200\n",
    "r=0.5\n",
    "SampEn_m200_r05_part=[]\n",
    "SampEn_m200_r05=[]\n",
    "inf_count_200=0\n",
    "zero_count_200=0\n",
    "for part in tqdm(Day1_list):\n",
    "    SampEn_part=[]\n",
    "    for session in part.D1_rating:\n",
    "        r_std=r*np.std(session)\n",
    "        en=nolds.sampen(session, emb_dim=m, tolerance=r_std)\n",
    "        SampEn_part.append(en)\n",
    "        if math.isinf(en):\n",
    "            inf_count_200+=1\n",
    "        else:\n",
    "            SampEn_m200_r05.append(en)\n",
    "            if en==0:\n",
    "                zero_count_200+=1\n",
    "    SampEn_m200_r05_part.append(SampEn_part)"
   ]
  },
  {
   "cell_type": "code",
   "execution_count": 21,
   "metadata": {},
   "outputs": [
    {
     "name": "stdout",
     "output_type": "stream",
     "text": [
      "valid entropy value: 248\n",
      "infinity value: 1\n",
      "zero value: 13\n"
     ]
    },
    {
     "data": {
      "image/png": "[encoded data removed]",
      "text/plain": [
       "<Figure size 640x480 with 1 Axes>"
      ]
     },
     "metadata": {},
     "output_type": "display_data"
    }
   ],
   "source": [
    "print(\"valid entropy value: \"+str(len(SampEn_m200_r05)))\n",
    "print(\"infinity value: \"+str(inf_count_200))\n",
    "print(\"zero value: \"+str(zero_count_200))\n",
    "plt.xlabel(\"entropy\")\n",
    "plt.title(\"Entropy distribution (m=200; r=0.5)\")\n",
    "plt.hist(SampEn_m200_r05, bins=100)\n",
    "plt.show()"
   ]
  },
  {
   "cell_type": "code",
   "execution_count": 31,
   "metadata": {},
   "outputs": [
    {
     "name": "stdout",
     "output_type": "stream",
     "text": [
      "max: 0.11551288712184435\n",
      "min: -0.0\n",
      "mean: 0.004920974742336886\n",
      "std: 0.009001150835731036\n"
     ]
    }
   ],
   "source": [
    "print(\"max: \"+str(max(SampEn_m200_r05)))\n",
    "print(\"min: \"+str(min(SampEn_m200_r05)))\n",
    "print(\"mean: \"+str(sum(SampEn_m200_r05)/len(SampEn_m200_r05)))\n",
    "print(\"std: \"+str(np.std(SampEn_m200_r05)))"
   ]
  },
  {
   "cell_type": "code",
   "execution_count": 22,
   "metadata": {},
   "outputs": [
    {
     "data": {
      "application/vnd.jupyter.widget-view+json": {
       "model_id": "a2197d38f3c949bcabfc9a04bbcb794e",
       "version_major": 2,
       "version_minor": 0
      },
      "text/plain": [
       "  0%|          | 0/79 [00:00<?, ?it/s]"
      ]
     },
     "metadata": {},
     "output_type": "display_data"
    }
   ],
   "source": [
    "m=100\n",
    "r=0.5\n",
    "SampEn_m100_r05_part=[]\n",
    "SampEn_m100_r05=[]\n",
    "inf_count_100=0\n",
    "zero_count_100=0\n",
    "for part in tqdm(Day1_list):\n",
    "    SampEn_part=[]\n",
    "    for session in part.D1_rating:\n",
    "        r_std=r*np.std(session)\n",
    "        en=nolds.sampen(session, emb_dim=m, tolerance=r_std)\n",
    "        SampEn_part.append(en)\n",
    "        if math.isinf(en):\n",
    "            inf_count_100+=1\n",
    "        else:\n",
    "            SampEn_m100_r05.append(en)\n",
    "            if en==0:\n",
    "                zero_count_100+=1\n",
    "    SampEn_m100_r05_part.append(SampEn_part)"
   ]
  },
  {
   "cell_type": "code",
   "execution_count": 23,
   "metadata": {},
   "outputs": [
    {
     "name": "stdout",
     "output_type": "stream",
     "text": [
      "valid entropy value: 248\n",
      "infinity value: 1\n",
      "zero value: 8\n"
     ]
    },
    {
     "data": {
      "image/png": "[encoded data removed]",
      "text/plain": [
       "<Figure size 640x480 with 1 Axes>"
      ]
     },
     "metadata": {},
     "output_type": "display_data"
    }
   ],
   "source": [
    "print(\"valid entropy value: \"+str(len(SampEn_m100_r05)))\n",
    "print(\"infinity value: \"+str(inf_count_100))\n",
    "print(\"zero value: \"+str(zero_count_100))\n",
    "plt.xlabel(\"entropy\")\n",
    "plt.title(\"Entropy distribution (m=100; r=0.5)\")\n",
    "plt.hist(SampEn_m100_r05, bins=100)\n",
    "plt.show()"
   ]
  },
  {
   "cell_type": "code",
   "execution_count": 30,
   "metadata": {},
   "outputs": [
    {
     "name": "stdout",
     "output_type": "stream",
     "text": [
      "max: 0.03583490100288272\n",
      "min: -0.0\n",
      "mean: 0.005196173847832029\n",
      "std: 0.005665975922177587\n"
     ]
    }
   ],
   "source": [
    "print(\"max: \"+str(max(SampEn_m100_r05)))\n",
    "print(\"min: \"+str(min(SampEn_m100_r05)))\n",
    "print(\"mean: \"+str(sum(SampEn_m100_r05)/len(SampEn_m100_r05)))\n",
    "print(\"std: \"+str(np.std(SampEn_m100_r05)))"
   ]
  },
  {
   "cell_type": "code",
   "execution_count": 24,
   "metadata": {},
   "outputs": [
    {
     "data": {
      "application/vnd.jupyter.widget-view+json": {
       "model_id": "5a70d3cabdd040eaae59f3ac07f144e2",
       "version_major": 2,
       "version_minor": 0
      },
      "text/plain": [
       "  0%|          | 0/79 [00:00<?, ?it/s]"
      ]
     },
     "metadata": {},
     "output_type": "display_data"
    }
   ],
   "source": [
    "m=300\n",
    "r=0.5\n",
    "SampEn_m300_r05_part=[]\n",
    "SampEn_m300_r05=[]\n",
    "inf_count_300=0\n",
    "zero_count_300=0\n",
    "for part in tqdm(Day1_list):\n",
    "    SampEn_part=[]\n",
    "    for session in part.D1_rating:\n",
    "        r_std=r*np.std(session)\n",
    "        en=nolds.sampen(session, emb_dim=m, tolerance=r_std)\n",
    "        SampEn_part.append(en)\n",
    "        if math.isinf(en):\n",
    "            inf_count_300+=1\n",
    "        else:\n",
    "            SampEn_m300_r05.append(en)\n",
    "            if en==0:\n",
    "                zero_count_300+=1\n",
    "    SampEn_m300_r05_part.append(SampEn_part)"
   ]
  },
  {
   "cell_type": "code",
   "execution_count": 25,
   "metadata": {},
   "outputs": [
    {
     "name": "stdout",
     "output_type": "stream",
     "text": [
      "valid entropy value: 245\n",
      "infinity value: 4\n",
      "zero value: 14\n"
     ]
    },
    {
     "data": {
      "image/png": "[encoded data removed]",
      "text/plain": [
       "<Figure size 640x480 with 1 Axes>"
      ]
     },
     "metadata": {},
     "output_type": "display_data"
    }
   ],
   "source": [
    "print(\"valid entropy value: \"+str(len(SampEn_m300_r05)))\n",
    "print(\"infinity value: \"+str(inf_count_300))\n",
    "print(\"zero value: \"+str(zero_count_300))\n",
    "plt.xlabel(\"entropy\")\n",
    "plt.title(\"Entropy distribution (m=300; r=0.5)\")\n",
    "plt.hist(SampEn_m300_r05, bins=100)\n",
    "plt.show()"
   ]
  },
  {
   "cell_type": "code",
   "execution_count": 32,
   "metadata": {},
   "outputs": [
    {
     "name": "stdout",
     "output_type": "stream",
     "text": [
      "max: 0.1670540846631662\n",
      "min: -0.0\n",
      "mean: 0.004663114357503173\n",
      "std: 0.011438678946112498\n"
     ]
    }
   ],
   "source": [
    "print(\"max: \"+str(max(SampEn_m300_r05)))\n",
    "print(\"min: \"+str(min(SampEn_m300_r05)))\n",
    "print(\"mean: \"+str(sum(SampEn_m300_r05)/len(SampEn_m300_r05)))\n",
    "print(\"std: \"+str(np.std(SampEn_m300_r05)))"
   ]
  },
  {
   "cell_type": "code",
   "execution_count": 26,
   "metadata": {},
   "outputs": [
    {
     "data": {
      "application/vnd.jupyter.widget-view+json": {
       "model_id": "df0443f9458b4b65980410d3525e802a",
       "version_major": 2,
       "version_minor": 0
      },
      "text/plain": [
       "  0%|          | 0/79 [00:00<?, ?it/s]"
      ]
     },
     "metadata": {},
     "output_type": "display_data"
    }
   ],
   "source": [
    "m=400\n",
    "r=0.5\n",
    "SampEn_m400_r05_part=[]\n",
    "SampEn_m400_r05=[]\n",
    "inf_count_400=0\n",
    "zero_count_400=0\n",
    "for part in tqdm(Day1_list):\n",
    "    SampEn_part=[]\n",
    "    for session in part.D1_rating:\n",
    "        r_std=r*np.std(session)\n",
    "        en=nolds.sampen(session, emb_dim=m, tolerance=r_std)\n",
    "        SampEn_part.append(en)\n",
    "        if math.isinf(en):\n",
    "            inf_count_400+=1\n",
    "        else:\n",
    "            SampEn_m400_r05.append(en)\n",
    "            if en==0:\n",
    "                zero_count_400+=1\n",
    "    SampEn_m300_r05_part.append(SampEn_part)"
   ]
  },
  {
   "cell_type": "code",
   "execution_count": 27,
   "metadata": {},
   "outputs": [
    {
     "name": "stdout",
     "output_type": "stream",
     "text": [
      "valid entropy value: 242\n",
      "infinity value: 7\n",
      "zero value: 16\n"
     ]
    },
    {
     "data": {
      "image/png": "[encoded data removed]",
      "text/plain": [
       "<Figure size 640x480 with 1 Axes>"
      ]
     },
     "metadata": {},
     "output_type": "display_data"
    }
   ],
   "source": [
    "print(\"valid entropy value: \"+str(len(SampEn_m400_r05)))\n",
    "print(\"infinity value: \"+str(inf_count_400))\n",
    "print(\"zero value: \"+str(zero_count_400))\n",
    "plt.xlabel(\"entropy\")\n",
    "plt.title(\"Entropy distribution (m=400; r=0.5)\")\n",
    "plt.hist(SampEn_m400_r05, bins=100)\n",
    "plt.show()"
   ]
  },
  {
   "cell_type": "code",
   "execution_count": 33,
   "metadata": {},
   "outputs": [
    {
     "name": "stdout",
     "output_type": "stream",
     "text": [
      "max: 0.03448617607116932\n",
      "min: -0.0\n",
      "mean: 0.0037203255746267425\n",
      "std: 0.0047831244954842705\n"
     ]
    }
   ],
   "source": [
    "print(\"max: \"+str(max(SampEn_m400_r05)))\n",
    "print(\"min: \"+str(min(SampEn_m400_r05)))\n",
    "print(\"mean: \"+str(sum(SampEn_m400_r05)/len(SampEn_m400_r05)))\n",
    "print(\"std: \"+str(np.std(SampEn_m400_r05)))"
   ]
  },
  {
   "cell_type": "code",
   "execution_count": 12,
   "metadata": {},
   "outputs": [],
   "source": [
    "def generate_Coarse_grained(data,scale):\n",
    "    averages = []\n",
    "    for i in range(0, len(data)-scale+1, scale):\n",
    "        average = sum(data[i:i+scale]) / scale\n",
    "        averages.append(average)\n",
    "    if len(data)%scale!=0:\n",
    "        averages.extend(data[-1*(len(data)%scale):])\n",
    "    return averages\n",
    "def MSEn(data,scale,m,r):\n",
    "    MSdata=generate_Coarse_grained(data,scale)\n",
    "    r=r*np.std(MSdata)\n",
    "    m=m//scale\n",
    "    return nolds.sampen(MSdata, emb_dim=m, tolerance=r)"
   ]
  },
  {
   "cell_type": "code",
   "execution_count": 13,
   "metadata": {},
   "outputs": [
    {
     "data": {
      "application/vnd.jupyter.widget-view+json": {
       "model_id": "aa97af60d52d43348707fcc1581febcc",
       "version_major": 2,
       "version_minor": 0
      },
      "text/plain": [
       "  0%|          | 0/79 [00:00<?, ?it/s]"
      ]
     },
     "metadata": {},
     "output_type": "display_data"
    }
   ],
   "source": [
    "m=200\n",
    "r=0.5\n",
    "scale=3\n",
    "MSEn_m200_r05_s3_part=[]\n",
    "MSEn_m200_r05_s3=[]\n",
    "inf_count_200=0\n",
    "zero_count_200=0\n",
    "for part in tqdm(Day1_list):\n",
    "    MSEn_part=[]\n",
    "    for session in part.D1_rating:\n",
    "        en=MSEn(session, scale, m, r)\n",
    "        MSEn_part.append(en)\n",
    "        if math.isinf(en):\n",
    "            inf_count_200+=1\n",
    "        else:\n",
    "            MSEn_m200_r05_s3.append(en)\n",
    "            if en==0:\n",
    "                zero_count_200+=1\n",
    "    MSEn_m200_r05_s3_part.append(MSEn_part)"
   ]
  },
  {
   "cell_type": "code",
   "execution_count": 16,
   "metadata": {},
   "outputs": [
    {
     "name": "stdout",
     "output_type": "stream",
     "text": [
      "valid entropy value: 248\n",
      "infinity value: 1\n",
      "zero value: 12\n"
     ]
    },
    {
     "data": {
      "image/png": "[encoded data removed]",
      "text/plain": [
       "<Figure size 640x480 with 1 Axes>"
      ]
     },
     "metadata": {},
     "output_type": "display_data"
    }
   ],
   "source": [
    "print(\"valid entropy value: \"+str(len(MSEn_m200_r05_s3)))\n",
    "print(\"infinity value: \"+str(inf_count_200))\n",
    "print(\"zero value: \"+str(zero_count_200))\n",
    "plt.xlabel(\"entropy\")\n",
    "plt.title(\"multiscale Entropy distribution (m=200; r=0.5; scale=3)\")\n",
    "plt.hist(MSEn_m200_r05_s3, bins=200)\n",
    "plt.show()"
   ]
  },
  {
   "cell_type": "code",
   "execution_count": 17,
   "metadata": {},
   "outputs": [
    {
     "name": "stdout",
     "output_type": "stream",
     "text": [
      "max: 0.40546510810816444\n",
      "min: -0.0\n",
      "mean: 0.016752819392085165\n",
      "std: 0.03613452335767878\n"
     ]
    }
   ],
   "source": [
    "print(\"max: \"+str(max(MSEn_m200_r05_s3)))\n",
    "print(\"min: \"+str(min(MSEn_m200_r05_s3)))\n",
    "print(\"mean: \"+str(sum(MSEn_m200_r05_s3)/len(MSEn_m200_r05_s3)))\n",
    "print(\"std: \"+str(np.std(MSEn_m200_r05_s3)))"
   ]
  },
  {
   "cell_type": "code",
   "execution_count": 18,
   "metadata": {},
   "outputs": [
    {
     "data": {
      "application/vnd.jupyter.widget-view+json": {
       "model_id": "2c65ed7aab6b483c92b9f2a61c3707ed",
       "version_major": 2,
       "version_minor": 0
      },
      "text/plain": [
       "  0%|          | 0/79 [00:00<?, ?it/s]"
      ]
     },
     "metadata": {},
     "output_type": "display_data"
    }
   ],
   "source": [
    "m=200\n",
    "r=0.5\n",
    "scale=2\n",
    "MSEn_m200_r05_s2_part=[]\n",
    "MSEn_m200_r05_s2=[]\n",
    "inf_count_200=0\n",
    "zero_count_200=0\n",
    "for part in tqdm(Day1_list):\n",
    "    MSEn_part=[]\n",
    "    for session in part.D1_rating:\n",
    "        en=MSEn(session, scale, m, r)\n",
    "        MSEn_part.append(en)\n",
    "        if math.isinf(en):\n",
    "            inf_count_200+=1\n",
    "        else:\n",
    "            MSEn_m200_r05_s2.append(en)\n",
    "            if en==0:\n",
    "                zero_count_200+=1\n",
    "    MSEn_m200_r05_s2_part.append(MSEn_part)"
   ]
  },
  {
   "cell_type": "code",
   "execution_count": 22,
   "metadata": {},
   "outputs": [
    {
     "name": "stdout",
     "output_type": "stream",
     "text": [
      "valid entropy value: 248\n",
      "infinity value: 1\n",
      "zero value: 13\n"
     ]
    },
    {
     "data": {
      "image/png": "[encoded data removed]",
      "text/plain": [
       "<Figure size 640x480 with 1 Axes>"
      ]
     },
     "metadata": {},
     "output_type": "display_data"
    }
   ],
   "source": [
    "print(\"valid entropy value: \"+str(len(MSEn_m200_r05_s2)))\n",
    "print(\"infinity value: \"+str(inf_count_200))\n",
    "print(\"zero value: \"+str(zero_count_200))\n",
    "plt.xlabel(\"entropy\")\n",
    "plt.title(\"multiscale Entropy distribution (m=200; r=0.5; scale=2)\")\n",
    "plt.hist(MSEn_m200_r05_s2, bins=200)\n",
    "plt.show()"
   ]
  },
  {
   "cell_type": "code",
   "execution_count": 21,
   "metadata": {},
   "outputs": [
    {
     "name": "stdout",
     "output_type": "stream",
     "text": [
      "max: 0.2231435513142097\n",
      "min: -0.0\n",
      "mean: 0.010377138691799067\n",
      "std: 0.01838887085822562\n"
     ]
    }
   ],
   "source": [
    "print(\"max: \"+str(max(MSEn_m200_r05_s2)))\n",
    "print(\"min: \"+str(min(MSEn_m200_r05_s2)))\n",
    "print(\"mean: \"+str(sum(MSEn_m200_r05_s2)/len(MSEn_m200_r05_s2)))\n",
    "print(\"std: \"+str(np.std(MSEn_m200_r05_s2)))"
   ]
  },
  {
   "attachments": {},
   "cell_type": "markdown",
   "metadata": {},
   "source": [
    "## Composite Multiscale Entropy"
   ]
  },
  {
   "cell_type": "code",
   "execution_count": 36,
   "metadata": {},
   "outputs": [],
   "source": [
    "def CMSEn(data,scale,m,r):\n",
    "    m=m//scale\n",
    "    En_list=[]\n",
    "    for start in range(0,scale):\n",
    "        if start ==0:\n",
    "            MSdata=generate_Coarse_grained(data,scale)\n",
    "            # print(MSdata)\n",
    "            r_std=r*np.std(MSdata)\n",
    "            En_list.append(nolds.sampen(MSdata, emb_dim=m, tolerance=r_std))\n",
    "        else:\n",
    "            MSdata=generate_Coarse_grained(data[start:],scale)\n",
    "            MSdata_final=data[0:start]+MSdata\n",
    "            # print(MSdata_final)\n",
    "            r_std=r*np.std(MSdata_final)\n",
    "            En_list.append(nolds.sampen(MSdata_final, emb_dim=m, tolerance=r_std))\n",
    "    return sum(En_list)/len(En_list)"
   ]
  },
  {
   "cell_type": "code",
   "execution_count": 37,
   "metadata": {},
   "outputs": [
    {
     "data": {
      "application/vnd.jupyter.widget-view+json": {
       "model_id": "0f53209ef6fa4bb9a38bb03160886977",
       "version_major": 2,
       "version_minor": 0
      },
      "text/plain": [
       "  0%|          | 0/79 [00:00<?, ?it/s]"
      ]
     },
     "metadata": {},
     "output_type": "display_data"
    }
   ],
   "source": [
    "m=200\n",
    "r=0.5\n",
    "scale=2\n",
    "CMSEn_m200_r05_s2_part=[]\n",
    "CMSEn_m200_r05_s2=[]\n",
    "inf_count_200=0\n",
    "zero_count_200=0\n",
    "for part in tqdm(Day1_list):\n",
    "    CMSEn_part=[]\n",
    "    for session in part.D1_rating:\n",
    "        en=CMSEn(session, scale, m, r)\n",
    "        CMSEn_part.append(en)\n",
    "        if math.isinf(en):\n",
    "            inf_count_200+=1\n",
    "        else:\n",
    "            CMSEn_m200_r05_s2.append(en)\n",
    "            if en==0:\n",
    "                zero_count_200+=1\n",
    "    CMSEn_m200_r05_s2_part.append(CMSEn_part)"
   ]
  },
  {
   "cell_type": "code",
   "execution_count": 41,
   "metadata": {},
   "outputs": [
    {
     "name": "stdout",
     "output_type": "stream",
     "text": [
      "valid entropy value: 248\n",
      "infinity value: 1\n",
      "zero value: 13\n"
     ]
    },
    {
     "data": {
      "image/png": "[encoded data removed]",
      "text/plain": [
       "<Figure size 640x480 with 1 Axes>"
      ]
     },
     "metadata": {},
     "output_type": "display_data"
    }
   ],
   "source": [
    "print(\"valid entropy value: \"+str(len(CMSEn_m200_r05_s2)))\n",
    "print(\"infinity value: \"+str(inf_count_200))\n",
    "print(\"zero value: \"+str(zero_count_200))\n",
    "plt.xlabel(\"entropy\")\n",
    "plt.title(\"Composite multiscale Entropy distribution (m=200; r=0.5; scale=2)\")\n",
    "plt.hist(CMSEn_m200_r05_s2, bins=100)\n",
    "plt.show()"
   ]
  },
  {
   "cell_type": "code",
   "execution_count": 39,
   "metadata": {},
   "outputs": [
    {
     "name": "stdout",
     "output_type": "stream",
     "text": [
      "max: 0.21835882580613436\n",
      "min: 0.0\n",
      "mean: 0.010309722129589778\n",
      "std: 0.0179252164443738\n"
     ]
    }
   ],
   "source": [
    "print(\"max: \"+str(max(CMSEn_m200_r05_s2)))\n",
    "print(\"min: \"+str(min(CMSEn_m200_r05_s2)))\n",
    "print(\"mean: \"+str(sum(CMSEn_m200_r05_s2)/len(CMSEn_m200_r05_s2)))\n",
    "print(\"std: \"+str(np.std(CMSEn_m200_r05_s2)))"
   ]
  },
  {
   "cell_type": "code",
   "execution_count": null,
   "metadata": {},
   "outputs": [],
   "source": [
    "## fourier entropy"
   ]
  },
  {
   "cell_type": "code",
   "execution_count": 4,
   "metadata": {},
   "outputs": [],
   "source": [
    "def calculate_fourier_entropy(signal):\n",
    "    # Compute the Fourier transform of the signal\n",
    "    spectrum = np.fft.fft(signal)\n",
    "\n",
    "    # Normalize the magnitude spectrum\n",
    "    normalized_spectrum = np.abs(spectrum) / np.sum(np.abs(spectrum))\n",
    "\n",
    "    # Calculate the probability distribution function (PDF)\n",
    "    pdf = normalized_spectrum / np.sum(normalized_spectrum)\n",
    "\n",
    "    # Calculate the Fourier entropy\n",
    "    entropy = -np.sum(pdf * np.log2(pdf))\n",
    "\n",
    "    return entropy"
   ]
  },
  {
   "cell_type": "code",
   "execution_count": 5,
   "metadata": {},
   "outputs": [
    {
     "data": {
      "application/vnd.jupyter.widget-view+json": {
       "model_id": "f2697fb32f6c48ea9ab7116ce8309642",
       "version_major": 2,
       "version_minor": 0
      },
      "text/plain": [
       "  0%|          | 0/79 [00:00<?, ?it/s]"
      ]
     },
     "metadata": {},
     "output_type": "display_data"
    },
    {
     "name": "stderr",
     "output_type": "stream",
     "text": [
      "C:\\Users\\28946\\AppData\\Local\\Temp\\ipykernel_16892\\4206238774.py:12: RuntimeWarning: divide by zero encountered in log2\n",
      "  entropy = -np.sum(pdf * np.log2(pdf))\n",
      "C:\\Users\\28946\\AppData\\Local\\Temp\\ipykernel_16892\\4206238774.py:12: RuntimeWarning: invalid value encountered in multiply\n",
      "  entropy = -np.sum(pdf * np.log2(pdf))\n"
     ]
    }
   ],
   "source": [
    "FourierEn_part=[]\n",
    "FourierEn=[]\n",
    "inf_count=0\n",
    "zero_count=0\n",
    "for part in tqdm(Day1_list):\n",
    "    FourEn_part=[]\n",
    "    for session in part.D1_rating:\n",
    "        en=calculate_fourier_entropy(session)\n",
    "        FourEn_part.append(en)\n",
    "        if math.isinf(en):\n",
    "            inf_count+=1\n",
    "        else:\n",
    "            FourierEn.append(en)\n",
    "            if en==0:\n",
    "                zero_count+=1\n",
    "    FourierEn_part.append(FourEn_part)"
   ]
  },
  {
   "cell_type": "code",
   "execution_count": 9,
   "metadata": {},
   "outputs": [
    {
     "data": {
      "image/png": "[encoded data removed]",
      "text/plain": [
       "<Figure size 640x480 with 1 Axes>"
      ]
     },
     "metadata": {},
     "output_type": "display_data"
    }
   ],
   "source": [
    "plt.xlabel(\"entropy\")\n",
    "plt.title(\"Fourier Entropy distribution\")\n",
    "plt.hist(FourierEn, bins=50)\n",
    "plt.show()"
   ]
  }
 ],
 "metadata": {
  "kernelspec": {
   "display_name": "base",
   "language": "python",
   "name": "python3"
  },
  "language_info": {
   "codemirror_mode": {
    "name": "ipython",
    "version": 3
   },
   "file_extension": ".py",
   "mimetype": "text/x-python",
   "name": "python",
   "nbconvert_exporter": "python",
   "pygments_lexer": "ipython3",
   "version": "3.8.8"
  },
  "orig_nbformat": 4
 },
 "nbformat": 4,
 "nbformat_minor": 2
}
