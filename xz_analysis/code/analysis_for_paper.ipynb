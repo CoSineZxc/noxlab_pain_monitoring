{
 "cells": [
  {
   "cell_type": "code",
   "execution_count": 77,
   "metadata": {},
   "outputs": [],
   "source": [
    "import pandas as pd\n",
    "from collections import Counter\n",
    "\n",
    "import importlib\n",
    "import function\n",
    "importlib.reload(function)\n",
    "from function import *"
   ]
  },
  {
   "cell_type": "code",
   "execution_count": 65,
   "metadata": {},
   "outputs": [],
   "source": [
    "df_HQandMSK=pd.read_csv('../data/questionnaire/qualtrics_05_excludeother_score.csv')\n",
    "df_rating_pred_conf=pd.read_pickle('../data/dataset/D1D2_downsampledata.pkl')"
   ]
  },
  {
   "cell_type": "code",
   "execution_count": 66,
   "metadata": {},
   "outputs": [
    {
     "name": "stdout",
     "output_type": "stream",
     "text": [
      "total participants: 81\n",
      "81\n"
     ]
    }
   ],
   "source": [
    "participant_list=[]\n",
    "print(\"total participants: \"+str(len(df_rating_pred_conf)))\n",
    "for index_R,row_R in df_rating_pred_conf.iterrows():\n",
    "    participant=part_for_paper(row_R.PID)\n",
    "    for index_Q,row_Q in df_HQandMSK.iterrows():\n",
    "        if row_R.PID==row_Q.PROLIFIC_PID:\n",
    "            participant.update(row_Q.Age,row_Q.Sex,row_Q.Score)\n",
    "            break\n",
    "    participant_list.append(participant)\n",
    "print(len(participant_list))"
   ]
  },
  {
   "cell_type": "code",
   "execution_count": 80,
   "metadata": {},
   "outputs": [
    {
     "name": "stdout",
     "output_type": "stream",
     "text": [
      "age mean: 45.5625\n",
      "age mean: 11.745045497996164\n",
      "age max: 65\n",
      "age min: 22\n",
      "Counter({'Female': 58, 'Male': 23})\n",
      "MSK mean: 36.617283950617285\n",
      "MSK max: 50\n",
      "MSK min: 9\n"
     ]
    }
   ],
   "source": [
    "age_list=[]\n",
    "gender_list=[]\n",
    "msk_list=[]\n",
    "for part in participant_list:\n",
    "    if np.isnan(part.age)==False:\n",
    "        # print(part.age)\n",
    "        age_list.append(part.age)\n",
    "    if type(part.gender)==str:\n",
    "        gender_list.append(part.gender)\n",
    "    if np.isnan(part.MSK)==False:\n",
    "        msk_list.append(part.MSK)\n",
    "print(\"age mean: \"+str(np.mean(age_list)))\n",
    "print(\"age mean: \"+str(np.std(age_list)))\n",
    "print(\"age max: \"+str(np.max(age_list)))\n",
    "print(\"age min: \"+str(np.min(age_list)))\n",
    "print(Counter(gender_list))\n",
    "print(\"MSK mean: \"+str(np.mean(msk_list)))\n",
    "print(\"MSK max: \"+str(np.max(msk_list)))\n",
    "print(\"MSK min: \"+str(np.min(msk_list)))"
   ]
  },
  {
   "cell_type": "code",
   "execution_count": null,
   "metadata": {},
   "outputs": [],
   "source": []
  }
 ],
 "metadata": {
  "kernelspec": {
   "display_name": "base",
   "language": "python",
   "name": "python3"
  },
  "language_info": {
   "codemirror_mode": {
    "name": "ipython",
    "version": 3
   },
   "file_extension": ".py",
   "mimetype": "text/x-python",
   "name": "python",
   "nbconvert_exporter": "python",
   "pygments_lexer": "ipython3",
   "version": "3.8.8"
  },
  "orig_nbformat": 4
 },
 "nbformat": 4,
 "nbformat_minor": 2
}
